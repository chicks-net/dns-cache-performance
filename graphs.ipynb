{
 "metadata": {
  "name": ""
 },
 "nbformat": 3,
 "nbformat_minor": 0,
 "worksheets": [
  {
   "cells": [
    {
     "cell_type": "code",
     "collapsed": false,
     "input": [
      "x=9\n",
      "y=6\n",
      "z=y**x\n",
      "print \"z=\", z"
     ],
     "language": "python",
     "metadata": {},
     "outputs": [
      {
       "output_type": "stream",
       "stream": "stdout",
       "text": [
        "z= 10077696\n"
       ]
      }
     ],
     "prompt_number": 10
    },
    {
     "cell_type": "code",
     "collapsed": false,
     "input": [
      "%pylab"
     ],
     "language": "python",
     "metadata": {},
     "outputs": [
      {
       "output_type": "stream",
       "stream": "stdout",
       "text": [
        "Using matplotlib backend: MacOSX\n",
        "Populating the interactive namespace from numpy and matplotlib\n"
       ]
      }
     ],
     "prompt_number": 42
    },
    {
     "cell_type": "code",
     "collapsed": false,
     "input": [
      "import statsmodels.api as sm\n",
      "import matplotlib.pyplot as plt"
     ],
     "language": "python",
     "metadata": {},
     "outputs": [],
     "prompt_number": 54
    },
    {
     "cell_type": "code",
     "collapsed": false,
     "input": [
      "import pandas as pd\n",
      "\n",
      "filename = 'namebench_2013-12-27_0205.csv'\n",
      "\n",
      "data = pd.read_csv(filename, header=0, \n",
      "                   names=[u'IP', u'Name', u'Test_Num', u'Record', u'Record_Type', u'Duration', u'TTL', u'Answer_Count', u'Response','Foo'])\n",
      "data.shape, data.keys()"
     ],
     "language": "python",
     "metadata": {},
     "outputs": [
      {
       "metadata": {},
       "output_type": "pyout",
       "prompt_number": 29,
       "text": [
        "((1000, 10),\n",
        " Index([u'IP', u'Name', u'Test_Num', u'Record', u'Record_Type', u'Duration', u'TTL', u'Answer_Count', u'Response', u'Foo'], dtype=object))"
       ]
      }
     ],
     "prompt_number": 29
    },
    {
     "cell_type": "code",
     "collapsed": false,
     "input": [
      "data.head()"
     ],
     "language": "python",
     "metadata": {},
     "outputs": [
      {
       "html": [
        "<div style=\"max-height:1000px;max-width:1500px;overflow:auto;\">\n",
        "<table border=\"1\" class=\"dataframe\">\n",
        "  <thead>\n",
        "    <tr style=\"text-align: right;\">\n",
        "      <th></th>\n",
        "      <th>IP</th>\n",
        "      <th>Name</th>\n",
        "      <th>Test_Num</th>\n",
        "      <th>Record</th>\n",
        "      <th>Record_Type</th>\n",
        "      <th>Duration</th>\n",
        "      <th>TTL</th>\n",
        "      <th>Answer_Count</th>\n",
        "      <th>Response</th>\n",
        "      <th>Foo</th>\n",
        "    </tr>\n",
        "  </thead>\n",
        "  <tbody>\n",
        "    <tr>\n",
        "      <th>0</th>\n",
        "      <td> 156.154.71.1</td>\n",
        "      <td> UltraDNS-2</td>\n",
        "      <td> 0</td>\n",
        "      <td> nl.youtube.com.</td>\n",
        "      <td> A</td>\n",
        "      <td> 264.336109</td>\n",
        "      <td>  300</td>\n",
        "      <td> 2</td>\n",
        "      <td> youtube-ui.l.google.com. -&gt; 173.194.44.1, 173....</td>\n",
        "      <td> NaN</td>\n",
        "    </tr>\n",
        "    <tr>\n",
        "      <th>1</th>\n",
        "      <td> 156.154.71.1</td>\n",
        "      <td> UltraDNS-2</td>\n",
        "      <td> 0</td>\n",
        "      <td> www.flickr.com.</td>\n",
        "      <td> A</td>\n",
        "      <td> 402.462006</td>\n",
        "      <td>  133</td>\n",
        "      <td> 5</td>\n",
        "      <td> flickr-panda-police.a00.yahoodns.net. -&gt; geoyc...</td>\n",
        "      <td> NaN</td>\n",
        "    </tr>\n",
        "    <tr>\n",
        "      <th>2</th>\n",
        "      <td> 156.154.71.1</td>\n",
        "      <td> UltraDNS-2</td>\n",
        "      <td> 0</td>\n",
        "      <td>    news.qq.com.</td>\n",
        "      <td> A</td>\n",
        "      <td> 316.584110</td>\n",
        "      <td> 6088</td>\n",
        "      <td> 4</td>\n",
        "      <td> www.qq.com. -&gt; qq.com.edgesuite.net. -&gt; a1574....</td>\n",
        "      <td> NaN</td>\n",
        "    </tr>\n",
        "    <tr>\n",
        "      <th>3</th>\n",
        "      <td> 156.154.71.1</td>\n",
        "      <td> UltraDNS-2</td>\n",
        "      <td> 0</td>\n",
        "      <td>  get.adobe.com.</td>\n",
        "      <td> A</td>\n",
        "      <td> 307.471991</td>\n",
        "      <td> 2908</td>\n",
        "      <td> 2</td>\n",
        "      <td>              get.wip4.adobe.com. -&gt; 192.150.16.58</td>\n",
        "      <td> NaN</td>\n",
        "    </tr>\n",
        "    <tr>\n",
        "      <th>4</th>\n",
        "      <td> 156.154.71.1</td>\n",
        "      <td> UltraDNS-2</td>\n",
        "      <td> 0</td>\n",
        "      <td>  www.yandex.ru.</td>\n",
        "      <td> A</td>\n",
        "      <td> 337.362051</td>\n",
        "      <td>   49</td>\n",
        "      <td> 1</td>\n",
        "      <td>        213.180.193.3, 213.180.204.3, 93.158.134.3</td>\n",
        "      <td> NaN</td>\n",
        "    </tr>\n",
        "  </tbody>\n",
        "</table>\n",
        "</div>"
       ],
       "metadata": {},
       "output_type": "pyout",
       "prompt_number": 30,
       "text": [
        "             IP        Name  Test_Num           Record Record_Type  \\\n",
        "0  156.154.71.1  UltraDNS-2         0  nl.youtube.com.           A   \n",
        "1  156.154.71.1  UltraDNS-2         0  www.flickr.com.           A   \n",
        "2  156.154.71.1  UltraDNS-2         0     news.qq.com.           A   \n",
        "3  156.154.71.1  UltraDNS-2         0   get.adobe.com.           A   \n",
        "4  156.154.71.1  UltraDNS-2         0   www.yandex.ru.           A   \n",
        "\n",
        "     Duration   TTL  Answer_Count  \\\n",
        "0  264.336109   300             2   \n",
        "1  402.462006   133             5   \n",
        "2  316.584110  6088             4   \n",
        "3  307.471991  2908             2   \n",
        "4  337.362051    49             1   \n",
        "\n",
        "                                            Response  Foo  \n",
        "0  youtube-ui.l.google.com. -> 173.194.44.1, 173....  NaN  \n",
        "1  flickr-panda-police.a00.yahoodns.net. -> geoyc...  NaN  \n",
        "2  www.qq.com. -> qq.com.edgesuite.net. -> a1574....  NaN  \n",
        "3               get.wip4.adobe.com. -> 192.150.16.58  NaN  \n",
        "4         213.180.193.3, 213.180.204.3, 93.158.134.3  NaN  "
       ]
      }
     ],
     "prompt_number": 30
    },
    {
     "cell_type": "code",
     "collapsed": false,
     "input": [
      "opendns_durations=data.Duration[data.Name=='OpenDNS']\n",
      "google_durations=data.Duration[data.Name=='Google Public DNS']"
     ],
     "language": "python",
     "metadata": {},
     "outputs": [],
     "prompt_number": 37
    },
    {
     "cell_type": "code",
     "collapsed": false,
     "input": [
      "set(data.Name)"
     ],
     "language": "python",
     "metadata": {},
     "outputs": [
      {
       "metadata": {},
       "output_type": "pyout",
       "prompt_number": 39,
       "text": [
        "{'DynGuide-2', 'Google Public DNS', 'OpenDNS', 'UltraDNS-2'}"
       ]
      }
     ],
     "prompt_number": 39
    },
    {
     "cell_type": "code",
     "collapsed": false,
     "input": [
      "google_durations.shape"
     ],
     "language": "python",
     "metadata": {},
     "outputs": [
      {
       "metadata": {},
       "output_type": "pyout",
       "prompt_number": 40,
       "text": [
        "(250,)"
       ]
      }
     ],
     "prompt_number": 40
    },
    {
     "cell_type": "code",
     "collapsed": false,
     "input": [
      "clf()\n",
      "hist(google_durations,bins=20)"
     ],
     "language": "python",
     "metadata": {},
     "outputs": [
      {
       "metadata": {},
       "output_type": "pyout",
       "prompt_number": 46,
       "text": [
        "(array([ 202.,   20.,    6.,    5.,    5.,    5.,    0.,    1.,    0.,\n",
        "          0.,    2.,    0.,    0.,    0.,    1.,    0.,    0.,    0.,\n",
        "          0.,    3.]),\n",
        " array([  134.5410347 ,   302.81398296,   471.08693123,   639.35987949,\n",
        "         807.63282776,   975.90577602,  1144.17872429,  1312.45167255,\n",
        "        1480.72462082,  1648.99756908,  1817.27051735,  1985.54346561,\n",
        "        2153.81641388,  2322.08936214,  2490.36231041,  2658.63525867,\n",
        "        2826.90820694,  2995.1811552 ,  3163.45410347,  3331.72705173,\n",
        "        3500.        ]),\n",
        " <a list of 20 Patch objects>)"
       ]
      }
     ],
     "prompt_number": 46
    },
    {
     "cell_type": "code",
     "collapsed": false,
     "input": [
      "figure(2)\n",
      "hist(opendns_durations,bins=20)"
     ],
     "language": "python",
     "metadata": {},
     "outputs": [
      {
       "metadata": {},
       "output_type": "pyout",
       "prompt_number": 47,
       "text": [
        "(array([ 179.,   32.,   12.,    8.,    3.,    1.,    7.,    0.,    3.,\n",
        "          0.,    0.,    1.,    0.,    0.,    1.,    0.,    0.,    0.,\n",
        "          0.,    3.]),\n",
        " array([  114.35484886,   283.63710642,   452.91936398,   622.20162153,\n",
        "         791.48387909,   960.76613665,  1130.0483942 ,  1299.33065176,\n",
        "        1468.61290932,  1637.89516687,  1807.17742443,  1976.45968199,\n",
        "        2145.74193954,  2315.0241971 ,  2484.30645466,  2653.58871222,\n",
        "        2822.87096977,  2992.15322733,  3161.43548489,  3330.71774244,\n",
        "        3500.        ]),\n",
        " <a list of 20 Patch objects>)"
       ]
      }
     ],
     "prompt_number": 47
    },
    {
     "cell_type": "code",
     "collapsed": false,
     "input": [
      "fig=figure(3)\n",
      "clf()\n",
      "ecdf = sm.distributions.ECDF(google_durations)\n",
      "x = np.linspace(min(google_durations),max(google_durations))\n",
      "y = ecdf(x)\n",
      "ax = fig.add_subplot(111)\n",
      "ax.set_ylabel('%')\n",
      "ax.set_xlabel('ms')\n",
      "ax.step(x,y)\n",
      "plt.show()"
     ],
     "language": "python",
     "metadata": {},
     "outputs": [],
     "prompt_number": 58
    },
    {
     "cell_type": "code",
     "collapsed": false,
     "input": [
      "ecdf"
     ],
     "language": "python",
     "metadata": {},
     "outputs": [
      {
       "metadata": {},
       "output_type": "pyout",
       "prompt_number": 51,
       "text": [
        "<statsmodels.distributions.empirical_distribution.ECDF at 0x10dff9210>"
       ]
      }
     ],
     "prompt_number": 51
    },
    {
     "cell_type": "code",
     "collapsed": false,
     "input": [],
     "language": "python",
     "metadata": {},
     "outputs": []
    }
   ],
   "metadata": {}
  }
 ]
}